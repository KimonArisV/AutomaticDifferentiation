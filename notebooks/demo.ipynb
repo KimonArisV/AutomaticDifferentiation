{
  "nbformat": 4,
  "nbformat_minor": 0,
  "metadata": {
    "colab": {
      "name": "demo.ipynb",
      "provenance": []
    },
    "kernelspec": {
      "name": "python3",
      "display_name": "Python 3"
    },
    "language_info": {
      "name": "python"
    }
  },
  "cells": [
    {
      "cell_type": "code",
      "source": [
        "!pip install -i https://test.pypi.org/simple/ auto-diff-harvardgs"
      ],
      "metadata": {
        "colab": {
          "base_uri": "https://localhost:8080/"
        },
        "id": "-dKJrkj6eR47",
        "outputId": "1b653aba-8bad-4827-ba02-d79336e33e69"
      },
      "execution_count": 2,
      "outputs": [
        {
          "output_type": "stream",
          "name": "stdout",
          "text": [
            "Looking in indexes: https://test.pypi.org/simple/\n",
            "Collecting auto-diff-harvardgs\n",
            "  Downloading https://test-files.pythonhosted.org/packages/4a/66/689a0490a0fe1d96c08a4daa040f5055442895edfd2d3628812f7f43c92c/auto_diff_harvardgs-0.0.5-py3-none-any.whl (7.0 kB)\n",
            "Installing collected packages: auto-diff-harvardgs\n",
            "Successfully installed auto-diff-harvardgs-0.0.5\n"
          ]
        }
      ]
    },
    {
      "cell_type": "code",
      "source": [
        "import time"
      ],
      "metadata": {
        "id": "lUhdasGkeVgE"
      },
      "execution_count": 4,
      "outputs": []
    },
    {
      "cell_type": "code",
      "execution_count": 13,
      "metadata": {
        "colab": {
          "base_uri": "https://localhost:8080/"
        },
        "id": "r4U5Dj9NeA6T",
        "outputId": "24f29667-8c02-4e4d-cc85-4bd59f7eb88c"
      },
      "outputs": [
        {
          "output_type": "stream",
          "name": "stdout",
          "text": [
            "([0.778800783071405, 13.708195669102421], [array([-4.76877943e-17, -6.74461263e-01]), array([13.70819567, 13.70819567])])\n",
            "value: [0.778800783071405, 13.708195669102421] expected value: 0.7788007830714049\n",
            "derivative: [array([-4.76877943e-17, -6.74461263e-01]), array([13.70819567, 13.70819567])] expected derivative [0, -0.6744612626270504]\n"
          ]
        }
      ],
      "source": [
        "from auto_diff_harvardgs.forward_mode import *\n",
        "\n",
        "x, y = Node.create_nodes(2)\n",
        "f1 = exp(-(sin(x) - cos(y)) ** 2)\n",
        "f2 = exp(x+y)\n",
        "values = [math.pi / 2, math.pi / 3]\n",
        "values2 = [1, 2]\n",
        "seed = [1, 1]\n",
        "res = Node.evaluate([f1,f2], values)\n",
        "\n",
        "print(res)\n"
      ]
    },
    {
      "cell_type": "code",
      "source": [
        ""
      ],
      "metadata": {
        "id": "tYmpXHaDf3vT"
      },
      "execution_count": null,
      "outputs": []
    }
  ]
}