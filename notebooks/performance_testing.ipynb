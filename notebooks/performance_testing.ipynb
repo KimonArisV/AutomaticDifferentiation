{
  "nbformat": 4,
  "nbformat_minor": 0,
  "metadata": {
    "colab": {
      "name": "performance_testing.ipynb",
      "provenance": []
    },
    "kernelspec": {
      "name": "python3",
      "display_name": "Python 3"
    },
    "language_info": {
      "name": "python"
    }
  },
  "cells": [
    {
      "cell_type": "code",
      "source": [
        "!pip install -i https://test.pypi.org/simple/ auto-diff-harvardgs"
      ],
      "metadata": {
        "colab": {
          "base_uri": "https://localhost:8080/"
        },
        "id": "CpDscPD7xFe5",
        "outputId": "df5181ba-b9e1-428f-aa69-d888da7e40d8"
      },
      "execution_count": 1,
      "outputs": [
        {
          "output_type": "stream",
          "name": "stdout",
          "text": [
            "Looking in indexes: https://test.pypi.org/simple/\n",
            "Collecting auto-diff-harvardgs\n",
            "  Downloading https://test-files.pythonhosted.org/packages/4a/66/689a0490a0fe1d96c08a4daa040f5055442895edfd2d3628812f7f43c92c/auto_diff_harvardgs-0.0.5-py3-none-any.whl (7.0 kB)\n",
            "Installing collected packages: auto-diff-harvardgs\n",
            "Successfully installed auto-diff-harvardgs-0.0.5\n"
          ]
        }
      ]
    },
    {
      "cell_type": "code",
      "execution_count": 5,
      "metadata": {
        "id": "ZdCIAOCqrJtQ"
      },
      "outputs": [],
      "source": [
        "import numpy as np\n",
        "from auto_diff_harvardgs.forward_mode import sin as lazysin\n",
        "from auto_diff_harvardgs.forward_mode import cos as lazycos\n",
        "from auto_diff_harvardgs.forward_mode import exp as lazyexp\n",
        "from auto_diff_harvardgs.forward_mode import tan as lazytan\n",
        "from auto_diff_harvardgs.forward_mode import Node as LazyNode\n",
        "from auto_diff_harvardgs.naive_forward_mode import sin as eagersin\n",
        "from auto_diff_harvardgs.naive_forward_mode import cos as eagercos\n",
        "from auto_diff_harvardgs.naive_forward_mode import exp as eagerexp\n",
        "from auto_diff_harvardgs.naive_forward_mode import tan as eagertan\n",
        "from auto_diff_harvardgs.naive_forward_mode import Node as EagerNode\n",
        "from auto_diff_harvardgs.naive_forward_mode import make_dual_numbers\n",
        "import time"
      ]
    },
    {
      "cell_type": "code",
      "source": [
        "reps = [10, 50, 150, 500]\n",
        "\n",
        "average_param = 100\n",
        "for rep in reps:\n",
        "    for a in range(average_param):\n",
        "        t_eager = 0\n",
        "        t_lazy = 0\n",
        "        random_vals = np.random.uniform(size=rep)\n",
        "        t = time.time()\n",
        "        for i in range(rep):\n",
        "            # c, d = make_dual_numbers([random_vals[i],random_vals[i]])\n",
        "            c = EagerNode(random_vals[i], 1)\n",
        "            d = EagerNode(random_vals[i], 1)\n",
        "            f1_e = eagerexp(eagersin(c+d)) + eagercos(eagersin(c+d)) * eagerexp(eagersin(c+d)) \n",
        "            f2_e = eagerexp(eagersin(c+d)) + eagercos(eagersin(c+d)) * eagerexp(eagersin(c+d)) \n",
        "            f3_e = eagerexp(eagersin(c+d)) + eagercos(eagersin(c+d)) * eagerexp(eagersin(c+d))\n",
        "            # f4_e = eagerexp(eagersin(c+d)) + eagercos(eagersin(c+d)) * eagerexp(eagersin(c+d)) \n",
        "            # f5_e = eagerexp(eagersin(c+d)) + eagercos(eagersin(c+d)) * eagerexp(eagersin(c+d))\n",
        "            f_final_e = f1_e + f2_e + f3_e\n",
        "        end = time.time()\n",
        "        t_eager += (end-t)\n",
        "\n",
        "        t = time.time()\n",
        "        a, b = LazyNode.create_nodes(2)\n",
        "        f1_l = lazyexp(lazysin(a+b)) + lazycos(lazysin(a+b)) * lazyexp(lazysin(a+b))\n",
        "        f2_l = lazyexp(lazysin(a+b)) + lazycos(lazysin(a+b)) * lazyexp(lazysin(a+b))\n",
        "        f3_l = lazyexp(lazysin(a+b)) + lazycos(lazysin(a+b)) * lazyexp(lazysin(a+b))\n",
        "        # f4_l = lazyexp(lazysin(a+b)) + lazycos(lazysin(a+b)) * lazyexp(lazysin(a+b))\n",
        "        # f5_l = lazyexp(lazysin(a+b)) + lazycos(lazysin(a+b)) * lazyexp(lazysin(a+b))\n",
        "        f_final_l = f1_l + f2_l + f3_l\n",
        "\n",
        "        for i in range(rep):\n",
        "            LazyNode.evaluate(f_final_l,[random_vals[i], random_vals[i]], [1, 1])\n",
        "        end = time.time()\n",
        "        t_lazy += (end-t)\n",
        "    \n",
        "    ratio = t_lazy/t_eager\n",
        "    print('\\n')\n",
        "    print(f'Eager eval with {rep} repos: {t_eager:.5f}')\n",
        "    print(f'Lazy eval with {rep} repos: {t_lazy:.5f}')\n",
        "    print(f'Ratio with {rep} repos: {ratio:.3f}')"
      ],
      "metadata": {
        "colab": {
          "base_uri": "https://localhost:8080/"
        },
        "id": "dI4c_m5Ew8dw",
        "outputId": "91cd3196-3514-43de-cedb-db364821c4b8"
      },
      "execution_count": 6,
      "outputs": [
        {
          "output_type": "stream",
          "name": "stdout",
          "text": [
            "\n",
            "\n",
            "Eager eval with 10 repos: 0.00091\n",
            "Lazy eval with 10 repos: 0.00126\n",
            "Ratio with 10 repos: 1.383\n",
            "\n",
            "\n",
            "Eager eval with 50 repos: 0.00470\n",
            "Lazy eval with 50 repos: 0.00397\n",
            "Ratio with 50 repos: 0.846\n",
            "\n",
            "\n",
            "Eager eval with 150 repos: 0.01445\n",
            "Lazy eval with 150 repos: 0.01093\n",
            "Ratio with 150 repos: 0.757\n",
            "\n",
            "\n",
            "Eager eval with 500 repos: 0.04819\n",
            "Lazy eval with 500 repos: 0.03227\n",
            "Ratio with 500 repos: 0.670\n"
          ]
        }
      ]
    }
  ]
}